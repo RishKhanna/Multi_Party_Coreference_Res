{
 "cells": [
  {
   "cell_type": "code",
   "execution_count": 1,
   "id": "419192a9-fdfa-43d8-b39c-2db40b47dff1",
   "metadata": {
    "tags": []
   },
   "outputs": [
    {
     "name": "stderr",
     "output_type": "stream",
     "text": [
      "/home2/abhisingam/miniconda3/envs/inlp/lib/python3.10/site-packages/tqdm/auto.py:22: TqdmWarning: IProgress not found. Please update jupyter and ipywidgets. See https://ipywidgets.readthedocs.io/en/stable/user_install.html\n",
      "  from .autonotebook import tqdm as notebook_tqdm\n"
     ]
    }
   ],
   "source": [
    "import torch\n",
    "from torch import nn\n",
    "from torch.nn import NLLLoss\n",
    "from torch.optim import Adam"
   ]
  },
  {
   "cell_type": "code",
   "execution_count": null,
   "id": "415fa649-4c3c-47d5-94f9-ce5fb00d3311",
   "metadata": {},
   "outputs": [],
   "source": [
    "class AMORE (nn.Module):\n",
    "    def __init__(self):\n",
    "        self.word_input_size = 300\n",
    "        self.speaker_input_size = 65\n",
    "        self.speaker_embedding_size = 134\n",
    "        self.lstm_hidden_size = 459        \n",
    "        \n",
    "        self.SpeakerEmbed = nn.Embedding(self.speaker_input_size, self.speaker_embedding_size)\n",
    "        self.LSTM = nn.LSTM(input_size = self.word_input_size + self.speaker_embedding_size, hidden_size = self.lstm_hidden_size, bidirectional=True)\n",
    "        self.Classifier = nn.Linear(self.lstm_hidden_size, self.speaker_embedding_size)\n",
    "        \n",
    "        \n",
    "    def forward(self, x):\n",
    "        x = np.array(x)\n",
    "        speak_embed = self.SpeakerEmbed(x[:,1])"
   ]
  }
 ],
 "metadata": {
  "kernelspec": {
   "display_name": "Python 3 (ipykernel)",
   "language": "python",
   "name": "python3"
  },
  "language_info": {
   "codemirror_mode": {
    "name": "ipython",
    "version": 3
   },
   "file_extension": ".py",
   "mimetype": "text/x-python",
   "name": "python",
   "nbconvert_exporter": "python",
   "pygments_lexer": "ipython3",
   "version": "3.10.9"
  }
 },
 "nbformat": 4,
 "nbformat_minor": 5
}
