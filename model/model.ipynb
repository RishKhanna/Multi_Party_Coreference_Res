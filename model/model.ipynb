{
 "cells": [
  {
   "cell_type": "code",
   "execution_count": 1,
   "id": "419192a9-fdfa-43d8-b39c-2db40b47dff1",
   "metadata": {
    "tags": []
   },
   "outputs": [
    {
     "name": "stderr",
     "output_type": "stream",
     "text": [
      "/home2/abhisingam/miniconda3/envs/inlp/lib/python3.10/site-packages/tqdm/auto.py:22: TqdmWarning: IProgress not found. Please update jupyter and ipywidgets. See https://ipywidgets.readthedocs.io/en/stable/user_install.html\n",
      "  from .autonotebook import tqdm as notebook_tqdm\n"
     ]
    }
   ],
   "source": [
    "import torch\n",
    "from torch import nn\n",
    "from torch.nn import NLLLoss\n",
    "from torch.optim import Adam, SparseAdam\n",
    "import numpy as np\n",
    "import pickle\n",
    "from icecream import ic\n",
    "from tqdm.notebook import tqdm\n",
    "from sklearn.metrics import f1_score\n",
    "device = torch.device(\"cuda:0\" if torch.cuda.is_available() else \"cpu\")"
   ]
  },
  {
   "cell_type": "code",
   "execution_count": 2,
   "id": "415fa649-4c3c-47d5-94f9-ce5fb00d3311",
   "metadata": {},
   "outputs": [],
   "source": [
    "class AMORE (nn.Module):\n",
    "    def __init__(self):\n",
    "        super(AMORE, self).__init__()\n",
    "        self.epochs = 0\n",
    "        self.word_input_size = 300\n",
    "        self.speaker_input_size = 65\n",
    "        self.speaker_embedding_size = 134\n",
    "        self.lstm_hidden_size = 459        \n",
    "        \n",
    "        self.SpeakerEmbed = nn.Embedding(self.speaker_input_size+1, self.speaker_embedding_size, padding_idx = self.speaker_input_size)\n",
    "        self.Dropout1 = nn.Dropout(8e-3)\n",
    "        self.Activation = nn.Tanh()\n",
    "        self.LSTM = nn.LSTM(input_size = self.word_input_size + self.speaker_embedding_size, hidden_size = self.lstm_hidden_size, bidirectional=True)\n",
    "        self.Dropout2 = nn.Dropout(13e-4)\n",
    "        self.Classifier = nn.Linear(2*self.lstm_hidden_size, self.speaker_embedding_size)\n",
    "        self.Cos = nn.CosineSimilarity(dim = 2)\n",
    "        self.Softmax = nn.LogSoftmax(dim = 1)\n",
    "        \n",
    "    def forward(self, x):\n",
    "        x0 = [i[0] for i in x[0]]\n",
    "        # print(len(x0), len(x0[0]))\n",
    "        # print(type(x0), type(x0[0]))\n",
    "        words = torch.stack(x0)\n",
    "        words = words.to(device)\n",
    "        speak_embed = torch.sum(self.SpeakerEmbed(torch.LongTensor(x[1]).to(device)),dim=1)\n",
    "        # print(\"speek\", speak_embed.size())\n",
    "        embed = torch.cat((words,speak_embed),dim=1)\n",
    "        embed = self.Dropout1(embed)\n",
    "        embed = self.Activation(embed)\n",
    "        h1, _= self.LSTM(embed)\n",
    "        h1 = self.Dropout2(h1)\n",
    "        # print(type(h1[0]), type(h1[1]))\n",
    "        # print(len(h1[0]), len(h1[1]))\n",
    "        # print(len(x0))\n",
    "        # print(h1[0].size())\n",
    "        # print(h1[1][0].size())\n",
    "        # print(h1[1][1].size())\n",
    "        e1 = self.Classifier(h1)\n",
    "        o1 = self.Cos(e1.unsqueeze(1),self.SpeakerEmbed.weight)\n",
    "        o2 = self.Softmax(o1)\n",
    "        return o2\n",
    "        "
   ]
  },
  {
   "cell_type": "code",
   "execution_count": 3,
   "id": "d60f2baa-3b99-4843-8228-d04d575c0926",
   "metadata": {},
   "outputs": [],
   "source": [
    "with open(\"../output/train_padded.pkl\", \"rb\") as f:\n",
    "    train_loader = pickle.load(f)\n",
    "with open(\"../output/test_padded.pkl\", \"rb\") as f:\n",
    "    test_loader = pickle.load(f)\n",
    "with open(\"../output/val_padded.pkl\", \"rb\") as f:\n",
    "    val_loader = pickle.load(f)"
   ]
  },
  {
   "cell_type": "code",
   "execution_count": 4,
   "id": "2d85fc6f-ff9a-4074-afed-c53886812157",
   "metadata": {
    "tags": []
   },
   "outputs": [],
   "source": [
    "# model initialization\n",
    "\n",
    "model = AMORE()\n",
    "model.to(device)\n",
    "loss_func = NLLLoss()\n",
    "# optimizer = Adam(model.parameters(), 5e-4)\n",
    "optimizer = Adam(model.parameters(), 5e-4)"
   ]
  },
  {
   "cell_type": "code",
   "execution_count": 5,
   "id": "4883424c-b321-4328-b55f-05ee065cd438",
   "metadata": {},
   "outputs": [
    {
     "name": "stdout",
     "output_type": "stream",
     "text": [
      "Epoch: 1\n",
      "Train Loss: 3.238766387462616\n"
     ]
    },
    {
     "name": "stderr",
     "output_type": "stream",
     "text": [
      "ic| 'Validation Loss:', val_loss: 3.1485816662128157\n",
      "ic| \"F1:\": 'F1:'\n",
      "    f1_score(targets, preds, average='macro'): 0.03127870264064294\n"
     ]
    },
    {
     "name": "stdout",
     "output_type": "stream",
     "text": [
      "Epoch: 2\n",
      "Train Loss: 3.0604518032073975\n"
     ]
    },
    {
     "name": "stderr",
     "output_type": "stream",
     "text": [
      "ic| 'Validation Loss:', val_loss: 2.9787194435413067\n",
      "ic| \"F1:\": 'F1:'\n",
      "    f1_score(targets, preds, average='macro'): 0.03127870264064294\n"
     ]
    },
    {
     "name": "stdout",
     "output_type": "stream",
     "text": [
      "Epoch: 3\n",
      "Train Loss: 2.9093290820121767\n"
     ]
    },
    {
     "name": "stderr",
     "output_type": "stream",
     "text": [
      "ic| 'Validation Loss:', val_loss: 2.8482879638671874\n",
      "ic| \"F1:\": 'F1:'\n",
      "    f1_score(targets, preds, average='macro'): 0.03127870264064294\n"
     ]
    },
    {
     "name": "stdout",
     "output_type": "stream",
     "text": [
      "Epoch: 4\n",
      "Train Loss: 2.7994093880653383\n"
     ]
    },
    {
     "name": "stderr",
     "output_type": "stream",
     "text": [
      "ic| 'Validation Loss:', val_loss: 2.7562070259681115\n",
      "ic| \"F1:\": 'F1:'\n",
      "    f1_score(targets, preds, average='macro'): 0.03127870264064294\n"
     ]
    },
    {
     "name": "stdout",
     "output_type": "stream",
     "text": [
      "Epoch: 5\n",
      "Train Loss: 2.7213806071281432\n"
     ]
    },
    {
     "name": "stderr",
     "output_type": "stream",
     "text": [
      "ic| 'Validation Loss:', val_loss: 2.6897900654719424\n",
      "ic| \"F1:\": 'F1:'\n",
      "    f1_score(targets, preds, average='macro'): 0.03127870264064294\n"
     ]
    },
    {
     "name": "stdout",
     "output_type": "stream",
     "text": [
      "Epoch: 6\n",
      "Train Loss: 2.6650792541503905\n"
     ]
    },
    {
     "name": "stderr",
     "output_type": "stream",
     "text": [
      "ic| 'Validation Loss:', val_loss: 2.641460290321937\n",
      "ic| \"F1:\": 'F1:'\n",
      "    f1_score(targets, preds, average='macro'): 0.03127870264064294\n"
     ]
    },
    {
     "name": "stdout",
     "output_type": "stream",
     "text": [
      "Epoch: 7\n",
      "Train Loss: 2.623841689109802\n"
     ]
    },
    {
     "name": "stderr",
     "output_type": "stream",
     "text": [
      "ic| 'Validation Loss:', val_loss: 2.605931050960834\n",
      "ic| \"F1:\": 'F1:'\n",
      "    f1_score(targets, preds, average='macro'): 0.03127870264064294\n"
     ]
    },
    {
     "name": "stdout",
     "output_type": "stream",
     "text": [
      "Epoch: 8\n",
      "Train Loss: 2.593778124332428\n"
     ]
    },
    {
     "name": "stderr",
     "output_type": "stream",
     "text": [
      "ic| 'Validation Loss:', val_loss: 2.5801412178919865\n",
      "ic| \"F1:\": 'F1:'\n",
      "    f1_score(targets, preds, average='macro'): 0.03127870264064294\n"
     ]
    },
    {
     "name": "stdout",
     "output_type": "stream",
     "text": [
      "Epoch: 9\n",
      "Train Loss: 2.572117781639099\n"
     ]
    },
    {
     "name": "stderr",
     "output_type": "stream",
     "text": [
      "ic| 'Validation Loss:', val_loss: 2.5617798034961408\n",
      "ic| \"F1:\": 'F1:'\n",
      "    f1_score(targets, preds, average='macro'): 0.03127870264064294\n"
     ]
    },
    {
     "name": "stdout",
     "output_type": "stream",
     "text": [
      "Epoch: 10\n",
      "Train Loss: 2.5568638896942137\n"
     ]
    },
    {
     "name": "stderr",
     "output_type": "stream",
     "text": [
      "ic| 'Validation Loss:', val_loss: 2.548923892241258\n",
      "ic| \"F1:\": 'F1:'\n",
      "    f1_score(targets, preds, average='macro'): 0.03127870264064294\n"
     ]
    },
    {
     "name": "stdout",
     "output_type": "stream",
     "text": [
      "Epoch: 11\n",
      "Train Loss: 2.5463603281974794\n"
     ]
    },
    {
     "name": "stderr",
     "output_type": "stream",
     "text": [
      "ic| 'Validation Loss:', val_loss: 2.540395711018489\n",
      "ic| \"F1:\": 'F1:'\n",
      "    f1_score(targets, preds, average='macro'): 0.03127870264064294\n"
     ]
    },
    {
     "name": "stdout",
     "output_type": "stream",
     "text": [
      "Epoch: 12\n",
      "Train Loss: 2.5391981711387634\n"
     ]
    },
    {
     "name": "stderr",
     "output_type": "stream",
     "text": [
      "ic| 'Validation Loss:', val_loss: 2.534191898199228\n",
      "ic| \"F1:\": 'F1:'\n",
      "    f1_score(targets, preds, average='macro'): 0.03127870264064294\n"
     ]
    },
    {
     "name": "stdout",
     "output_type": "stream",
     "text": [
      "Epoch: 13\n",
      "Train Loss: 2.5344146490097046\n"
     ]
    },
    {
     "name": "stderr",
     "output_type": "stream",
     "text": [
      "ic| 'Validation Loss:', val_loss: 2.530274823995737\n",
      "ic| \"F1:\": 'F1:'\n",
      "    f1_score(targets, preds, average='macro'): 0.03127870264064294\n"
     ]
    },
    {
     "name": "stdout",
     "output_type": "stream",
     "text": [
      "Epoch: 14\n",
      "Train Loss: 2.5311341638565064\n"
     ]
    },
    {
     "name": "stderr",
     "output_type": "stream",
     "text": [
      "ic| 'Validation Loss:', val_loss: 2.5274132325099066\n",
      "ic| \"F1:\": 'F1:'\n",
      "    f1_score(targets, preds, average='macro'): 0.03127870264064294\n"
     ]
    },
    {
     "name": "stdout",
     "output_type": "stream",
     "text": [
      "Epoch: 15\n",
      "Train Loss: 2.5288338141441344\n"
     ]
    },
    {
     "name": "stderr",
     "output_type": "stream",
     "text": [
      "ic| 'Validation Loss:', val_loss: 2.5253447532653808\n",
      "ic| \"F1:\": 'F1:'\n",
      "    f1_score(targets, preds, average='macro'): 0.03127870264064294\n"
     ]
    },
    {
     "name": "stdout",
     "output_type": "stream",
     "text": [
      "Epoch: 16\n",
      "Train Loss: 2.527147609233856\n"
     ]
    },
    {
     "name": "stderr",
     "output_type": "stream",
     "text": [
      "ic| 'Validation Loss:', val_loss: 2.5238500705132116\n",
      "ic| \"F1:\": 'F1:'\n",
      "    f1_score(targets, preds, average='macro'): 0.03127870264064294\n"
     ]
    },
    {
     "name": "stdout",
     "output_type": "stream",
     "text": [
      "Epoch: 17\n",
      "Train Loss: 2.525817913532257\n"
     ]
    },
    {
     "name": "stderr",
     "output_type": "stream",
     "text": [
      "ic| 'Validation Loss:', val_loss: 2.522659202722403\n",
      "ic| \"F1:\": 'F1:'\n",
      "    f1_score(targets, preds, average='macro'): 0.03127870264064294\n"
     ]
    },
    {
     "name": "stdout",
     "output_type": "stream",
     "text": [
      "Epoch: 18\n",
      "Train Loss: 2.52478932094574\n"
     ]
    },
    {
     "name": "stderr",
     "output_type": "stream",
     "text": [
      "ic| 'Validation Loss:', val_loss: 2.521511833484356\n",
      "ic| \"F1:\": 'F1:'\n",
      "    f1_score(targets, preds, average='macro'): 0.03127870264064294\n"
     ]
    },
    {
     "name": "stdout",
     "output_type": "stream",
     "text": [
      "Epoch: 19\n",
      "Train Loss: 2.5239252614974976\n"
     ]
    },
    {
     "name": "stderr",
     "output_type": "stream",
     "text": [
      "ic| 'Validation Loss:', val_loss: 2.5206856764279877\n",
      "ic| \"F1:\": 'F1:'\n",
      "    f1_score(targets, preds, average='macro'): 0.03127870264064294\n"
     ]
    },
    {
     "name": "stdout",
     "output_type": "stream",
     "text": [
      "Epoch: 20\n",
      "Train Loss: 2.523239028930664\n"
     ]
    },
    {
     "name": "stderr",
     "output_type": "stream",
     "text": [
      "ic| 'Validation Loss:', val_loss: 2.520109561773447\n",
      "ic| \"F1:\": 'F1:'\n",
      "    f1_score(targets, preds, average='macro'): 0.03127870264064294\n"
     ]
    },
    {
     "name": "stdout",
     "output_type": "stream",
     "text": [
      "Epoch: 21\n",
      "Train Loss: 2.522670226097107\n"
     ]
    },
    {
     "name": "stderr",
     "output_type": "stream",
     "text": [
      "ic| 'Validation Loss:', val_loss: 2.519399037727943\n",
      "ic| \"F1:\": 'F1:'\n",
      "    f1_score(targets, preds, average='macro'): 0.03127870264064294\n"
     ]
    },
    {
     "name": "stdout",
     "output_type": "stream",
     "text": [
      "Epoch: 22\n",
      "Train Loss: 2.522194649219513\n"
     ]
    },
    {
     "name": "stderr",
     "output_type": "stream",
     "text": [
      "ic| 'Validation Loss:', val_loss: 2.5189257108248198\n",
      "ic| \"F1:\": 'F1:'\n",
      "    f1_score(targets, preds, average='macro'): 0.03127870264064294\n"
     ]
    },
    {
     "name": "stdout",
     "output_type": "stream",
     "text": [
      "Epoch: 23\n",
      "Train Loss: 2.5218241395950316\n"
     ]
    },
    {
     "name": "stderr",
     "output_type": "stream",
     "text": [
      "ic| 'Validation Loss:', val_loss: 2.518518726642315\n",
      "ic| \"F1:\": 'F1:'\n",
      "    f1_score(targets, preds, average='macro'): 0.03127870264064294\n"
     ]
    },
    {
     "name": "stdout",
     "output_type": "stream",
     "text": [
      "Epoch: 24\n",
      "Train Loss: 2.521494788646698\n"
     ]
    },
    {
     "name": "stderr",
     "output_type": "stream",
     "text": [
      "ic| 'Validation Loss:', val_loss: 2.5181983727675217\n",
      "ic| \"F1:\": 'F1:'\n",
      "    f1_score(targets, preds, average='macro'): 0.03127870264064294\n"
     ]
    },
    {
     "name": "stdout",
     "output_type": "stream",
     "text": [
      "Epoch: 25\n",
      "Train Loss: 2.5212567162513735\n"
     ]
    },
    {
     "name": "stderr",
     "output_type": "stream",
     "text": [
      "ic| 'Validation Loss:', val_loss: 2.517916639034565\n",
      "ic| \"F1:\": 'F1:'\n",
      "    f1_score(targets, preds, average='macro'): 0.03127870264064294\n"
     ]
    },
    {
     "name": "stdout",
     "output_type": "stream",
     "text": [
      "Epoch: 26\n",
      "Train Loss: 2.52105970621109\n"
     ]
    },
    {
     "name": "stderr",
     "output_type": "stream",
     "text": [
      "ic| 'Validation Loss:', val_loss: 2.5176520641033466\n",
      "ic| \"F1:\": 'F1:'\n",
      "    f1_score(targets, preds, average='macro'): 0.03127870264064294\n"
     ]
    },
    {
     "name": "stdout",
     "output_type": "stream",
     "text": [
      "Epoch: 27\n",
      "Train Loss: 2.520910499095917\n"
     ]
    },
    {
     "name": "stderr",
     "output_type": "stream",
     "text": [
      "ic| 'Validation Loss:', val_loss: 2.5174741378197303\n",
      "ic| \"F1:\": 'F1:'\n",
      "    f1_score(targets, preds, average='macro'): 0.03127870264064294\n"
     ]
    },
    {
     "name": "stdout",
     "output_type": "stream",
     "text": [
      "Epoch: 28\n",
      "Train Loss: 2.5207827134132383\n"
     ]
    },
    {
     "name": "stderr",
     "output_type": "stream",
     "text": [
      "ic| 'Validation Loss:', val_loss: 2.517328610787025\n",
      "ic| \"F1:\": 'F1:'\n",
      "    f1_score(targets, preds, average='macro'): 0.03127870264064294\n"
     ]
    },
    {
     "name": "stdout",
     "output_type": "stream",
     "text": [
      "Epoch: 29\n",
      "Train Loss: 2.520685447216034\n"
     ]
    },
    {
     "name": "stderr",
     "output_type": "stream",
     "text": [
      "ic| 'Validation Loss:', val_loss: 2.517168851999136\n",
      "ic| \"F1:\": 'F1:'\n",
      "    f1_score(targets, preds, average='macro'): 0.03127870264064294\n"
     ]
    },
    {
     "name": "stdout",
     "output_type": "stream",
     "text": [
      "Epoch: 30\n",
      "Train Loss: 2.5206080226898195\n"
     ]
    },
    {
     "name": "stderr",
     "output_type": "stream",
     "text": [
      "ic| 'Validation Loss:', val_loss: 2.517084162051861\n",
      "ic| \"F1:\": 'F1:'\n",
      "    f1_score(targets, preds, average='macro'): 0.03127870264064294\n"
     ]
    },
    {
     "name": "stdout",
     "output_type": "stream",
     "text": [
      "Epoch: 31\n",
      "Train Loss: 2.520549430370331\n"
     ]
    },
    {
     "name": "stderr",
     "output_type": "stream",
     "text": [
      "ic| 'Validation Loss:', val_loss: 2.516924869097196\n",
      "ic| \"F1:\": 'F1:'\n",
      "    f1_score(targets, preds, average='macro'): 0.03127870264064294\n"
     ]
    },
    {
     "name": "stdout",
     "output_type": "stream",
     "text": [
      "Epoch: 32\n",
      "Train Loss: 2.5204973487854003\n"
     ]
    },
    {
     "name": "stderr",
     "output_type": "stream",
     "text": [
      "ic| 'Validation Loss:', val_loss: 2.5168614864349363\n",
      "ic| \"F1:\": 'F1:'\n",
      "    f1_score(targets, preds, average='macro'): 0.03127870264064294\n"
     ]
    },
    {
     "name": "stdout",
     "output_type": "stream",
     "text": [
      "Epoch: 33\n",
      "Train Loss: 2.5204399604797363\n"
     ]
    },
    {
     "name": "stderr",
     "output_type": "stream",
     "text": [
      "ic| 'Validation Loss:', val_loss: 2.516773359592144\n",
      "ic| \"F1:\": 'F1:'\n",
      "    f1_score(targets, preds, average='macro'): 0.03127870264064294\n"
     ]
    },
    {
     "name": "stdout",
     "output_type": "stream",
     "text": [
      "Epoch: 34\n",
      "Train Loss: 2.520409378051758\n"
     ]
    },
    {
     "name": "stderr",
     "output_type": "stream",
     "text": [
      "ic| 'Validation Loss:', val_loss: 2.516688376206618\n",
      "ic| \"F1:\": 'F1:'\n",
      "    f1_score(targets, preds, average='macro'): 0.03127870264064294\n"
     ]
    },
    {
     "name": "stdout",
     "output_type": "stream",
     "text": [
      "Epoch: 35\n",
      "Train Loss: 2.5203801727294923\n"
     ]
    },
    {
     "name": "stderr",
     "output_type": "stream",
     "text": [
      "ic| 'Validation Loss:', val_loss: 2.5166514286628137\n",
      "ic| \"F1:\": 'F1:'\n",
      "    f1_score(targets, preds, average='macro'): 0.03127870264064294\n"
     ]
    },
    {
     "name": "stdout",
     "output_type": "stream",
     "text": [
      "Epoch: 36\n",
      "Train Loss: 2.5203503470420836\n"
     ]
    },
    {
     "name": "stderr",
     "output_type": "stream",
     "text": [
      "ic| 'Validation Loss:', val_loss: 2.5166221398573656\n",
      "ic| \"F1:\": 'F1:'\n",
      "    f1_score(targets, preds, average='macro'): 0.03127870264064294\n"
     ]
    },
    {
     "name": "stdout",
     "output_type": "stream",
     "text": [
      "Epoch: 37\n",
      "Train Loss: 2.5203251123428343\n"
     ]
    },
    {
     "name": "stderr",
     "output_type": "stream",
     "text": [
      "ic| 'Validation Loss:', val_loss: 2.5165519897754374\n",
      "ic| \"F1:\": 'F1:'\n",
      "    f1_score(targets, preds, average='macro'): 0.03127870264064294\n"
     ]
    },
    {
     "name": "stdout",
     "output_type": "stream",
     "text": [
      "Epoch: 38\n",
      "Train Loss: 2.520300879955292\n"
     ]
    },
    {
     "name": "stderr",
     "output_type": "stream",
     "text": [
      "ic| 'Validation Loss:', val_loss: 2.5164950700906608\n",
      "ic| \"F1:\": 'F1:'\n",
      "    f1_score(targets, preds, average='macro'): 0.03127870264064294\n"
     ]
    },
    {
     "name": "stdout",
     "output_type": "stream",
     "text": [
      "Epoch: 39\n",
      "Train Loss: 2.5202920541763305\n"
     ]
    },
    {
     "name": "stderr",
     "output_type": "stream",
     "text": [
      "ic| 'Validation Loss:', val_loss: 2.516451116708609\n",
      "ic| \"F1:\": 'F1:'\n",
      "    f1_score(targets, preds, average='macro'): 0.03127870264064294\n"
     ]
    },
    {
     "name": "stdout",
     "output_type": "stream",
     "text": [
      "Epoch: 40\n",
      "Train Loss: 2.5202840909957884\n"
     ]
    },
    {
     "name": "stderr",
     "output_type": "stream",
     "text": [
      "ic| 'Validation Loss:', val_loss: 2.5164192309746376\n",
      "ic| \"F1:\": 'F1:'\n",
      "    f1_score(targets, preds, average='macro'): 0.03127870264064294\n"
     ]
    },
    {
     "name": "stdout",
     "output_type": "stream",
     "text": [
      "Epoch: 41\n",
      "Train Loss: 2.52026181268692\n"
     ]
    },
    {
     "name": "stderr",
     "output_type": "stream",
     "text": [
      "ic| 'Validation Loss:', val_loss: 2.5163862998668964\n",
      "ic| \"F1:\": 'F1:'\n",
      "    f1_score(targets, preds, average='macro'): 0.03127870264064294\n"
     ]
    },
    {
     "name": "stdout",
     "output_type": "stream",
     "text": [
      "Epoch: 42\n",
      "Train Loss: 2.5202559123039245\n"
     ]
    },
    {
     "name": "stderr",
     "output_type": "stream",
     "text": [
      "ic| 'Validation Loss:', val_loss: 2.5163505737598126\n",
      "ic| \"F1:\": 'F1:'\n",
      "    f1_score(targets, preds, average='macro'): 0.03127870264064294\n"
     ]
    },
    {
     "name": "stdout",
     "output_type": "stream",
     "text": [
      "Epoch: 43\n",
      "Train Loss: 2.520241982936859\n"
     ]
    },
    {
     "name": "stderr",
     "output_type": "stream",
     "text": [
      "ic| 'Validation Loss:', val_loss: 2.5163071338947\n",
      "ic| \"F1:\": 'F1:'\n",
      "    f1_score(targets, preds, average='macro'): 0.03127870264064294\n"
     ]
    },
    {
     "name": "stdout",
     "output_type": "stream",
     "text": [
      "Epoch: 44\n",
      "Train Loss: 2.520229236602783\n"
     ]
    },
    {
     "name": "stderr",
     "output_type": "stream",
     "text": [
      "ic| 'Validation Loss:', val_loss: 2.516283207673293\n",
      "ic| \"F1:\": 'F1:'\n",
      "    f1_score(targets, preds, average='macro'): 0.03127870264064294\n"
     ]
    },
    {
     "name": "stdout",
     "output_type": "stream",
     "text": [
      "Epoch: 45\n",
      "Train Loss: 2.520224304199219\n"
     ]
    },
    {
     "name": "stderr",
     "output_type": "stream",
     "text": [
      "ic| 'Validation Loss:', val_loss: 2.516253922535823\n",
      "ic| \"F1:\": 'F1:'\n",
      "    f1_score(targets, preds, average='macro'): 0.03127870264064294\n"
     ]
    },
    {
     "name": "stdout",
     "output_type": "stream",
     "text": [
      "Epoch: 46\n",
      "Train Loss: 2.520217573642731\n"
     ]
    },
    {
     "name": "stderr",
     "output_type": "stream",
     "text": [
      "ic| 'Validation Loss:', val_loss: 2.516247606277466\n",
      "ic| \"F1:\": 'F1:'\n",
      "    f1_score(targets, preds, average='macro'): 0.03127870264064294\n"
     ]
    },
    {
     "name": "stdout",
     "output_type": "stream",
     "text": [
      "Epoch: 47\n",
      "Train Loss: 2.520214339256287\n"
     ]
    },
    {
     "name": "stderr",
     "output_type": "stream",
     "text": [
      "ic| 'Validation Loss:', val_loss: 2.516212558746338\n",
      "ic| \"F1:\": 'F1:'\n",
      "    f1_score(targets, preds, average='macro'): 0.03127870264064294\n"
     ]
    },
    {
     "name": "stdout",
     "output_type": "stream",
     "text": [
      "Epoch: 48\n",
      "Train Loss: 2.520199770450592\n"
     ]
    },
    {
     "name": "stderr",
     "output_type": "stream",
     "text": [
      "ic| 'Validation Loss:', val_loss: 2.516203212738037\n",
      "ic| \"F1:\": 'F1:'\n",
      "    f1_score(targets, preds, average='macro'): 0.03127870264064294\n"
     ]
    },
    {
     "name": "stdout",
     "output_type": "stream",
     "text": [
      "Epoch: 49\n",
      "Train Loss: 2.5202016887664795\n"
     ]
    },
    {
     "name": "stderr",
     "output_type": "stream",
     "text": [
      "ic| 'Validation Loss:', val_loss: 2.516163206100464\n",
      "ic| \"F1:\": 'F1:'\n",
      "    f1_score(targets, preds, average='macro'): 0.03127870264064294\n"
     ]
    },
    {
     "name": "stdout",
     "output_type": "stream",
     "text": [
      "Epoch: 50\n",
      "Train Loss: 2.520198531627655\n"
     ]
    },
    {
     "name": "stderr",
     "output_type": "stream",
     "text": [
      "ic| 'Validation Loss:', val_loss: 2.5161672922281118\n",
      "ic| \"F1:\": 'F1:'\n",
      "    f1_score(targets, preds, average='macro'): 0.03127870264064294\n"
     ]
    }
   ],
   "source": [
    "# training loop\n",
    "\n",
    "num_epochs = 50\n",
    "for epoch in range(num_epochs):\n",
    "    model.train()\n",
    "    model.epochs += 1\n",
    "    train_loss = 0\n",
    "    count = 0\n",
    "    print(\"Epoch:\", model.epochs)\n",
    "    # for sent in tqdm(train_loader):\n",
    "    for sent in train_loader:\n",
    "        model.zero_grad()\n",
    "\n",
    "        X, Y = sent\n",
    "        \n",
    "        y = model(X)\n",
    "\n",
    "        loss = loss_func(y, torch.LongTensor(Y).to(device))\n",
    "        loss.backward()\n",
    "        optimizer.step()\n",
    "        train_loss += loss.item()\n",
    "        \n",
    "        # count += 1\n",
    "        # if count%100 == 0:\n",
    "        #     print(f\"Sample No {count}:\", loss.item())\n",
    "        \n",
    "        \n",
    "    train_loss /= len(train_loader)\n",
    "    print(\"Train Loss:\", train_loss)\n",
    "    \n",
    "    \n",
    "    # validation\n",
    "    \n",
    "    model.eval()\n",
    "    val_loss = 0\n",
    "    targets = []\n",
    "    preds = []\n",
    "    for sent in val_loader:\n",
    "        X, Y = sent\n",
    "        targets+=[i.tolist() for i in Y]\n",
    "        y = model(X)\n",
    "        preds += torch.argmax(y, dim=1).to('cpu')\n",
    "        loss = loss_func(y, torch.LongTensor(Y).to(device))\n",
    "        val_loss += loss.item()\n",
    "    val_loss /= len(val_loader)\n",
    "    ic(\"Validation Loss:\", val_loss)\n",
    "    # print(targets)\n",
    "    # print(preds)\n",
    "    ic(\"F1:\", f1_score(targets, preds, average='macro'))"
   ]
  },
  {
   "cell_type": "code",
   "execution_count": 6,
   "id": "2ee2eff0-3003-400a-ab64-79fae0cb9e02",
   "metadata": {
    "tags": []
   },
   "outputs": [
    {
     "data": {
      "text/plain": [
       "[0]"
      ]
     },
     "execution_count": 6,
     "metadata": {},
     "output_type": "execute_result"
    }
   ],
   "source": [
    "targets[0]"
   ]
  },
  {
   "cell_type": "code",
   "execution_count": 7,
   "id": "f509a94c-9f83-4dd5-a447-ec702bbc0717",
   "metadata": {
    "tags": []
   },
   "outputs": [
    {
     "name": "stderr",
     "output_type": "stream",
     "text": [
      "ic| 'Test Loss:', test_loss: 2.516904660633632\n",
      "ic| \"F1:\": 'F1:'\n",
      "    f1_score(targets, preds, average='macro'): 0.020804552418472313\n"
     ]
    },
    {
     "data": {
      "text/plain": [
       "('F1:', 0.020804552418472313)"
      ]
     },
     "execution_count": 7,
     "metadata": {},
     "output_type": "execute_result"
    }
   ],
   "source": [
    "# testing loop\n",
    "model.eval()\n",
    "test_loss = 0\n",
    "targets = []\n",
    "preds = []\n",
    "for sent in test_loader:\n",
    "    X, Y = sent\n",
    "    targets += [i.tolist() for i in Y]\n",
    "    y = model(X)\n",
    "    \n",
    "    preds += torch.argmax(y, dim=1).to('cpu')\n",
    "    \n",
    "    loss = loss_func(y, torch.LongTensor(Y).to(device))\n",
    "    test_loss += loss.item()\n",
    "test_loss /= len(test_loader)\n",
    "ic(\"Test Loss:\", test_loss)\n",
    "ic(\"F1:\", f1_score(targets, preds, average='macro'))"
   ]
  },
  {
   "cell_type": "code",
   "execution_count": null,
   "id": "6134ced6-da13-4261-ade4-988f5ab08bcb",
   "metadata": {},
   "outputs": [],
   "source": [
    "\n",
    "\n"
   ]
  }
 ],
 "metadata": {
  "kernelspec": {
   "display_name": "Python 3 (ipykernel)",
   "language": "python",
   "name": "python3"
  },
  "language_info": {
   "codemirror_mode": {
    "name": "ipython",
    "version": 3
   },
   "file_extension": ".py",
   "mimetype": "text/x-python",
   "name": "python",
   "nbconvert_exporter": "python",
   "pygments_lexer": "ipython3",
   "version": "3.10.9"
  }
 },
 "nbformat": 4,
 "nbformat_minor": 5
}
