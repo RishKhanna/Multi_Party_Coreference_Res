{
 "cells": [
  {
   "cell_type": "code",
   "execution_count": 1,
   "id": "419192a9-fdfa-43d8-b39c-2db40b47dff1",
   "metadata": {
    "tags": []
   },
   "outputs": [
    {
     "name": "stderr",
     "output_type": "stream",
     "text": [
      "/home2/abhisingam/miniconda3/envs/inlp/lib/python3.10/site-packages/tqdm/auto.py:22: TqdmWarning: IProgress not found. Please update jupyter and ipywidgets. See https://ipywidgets.readthedocs.io/en/stable/user_install.html\n",
      "  from .autonotebook import tqdm as notebook_tqdm\n"
     ]
    }
   ],
   "source": [
    "import torch\n",
    "from torch import nn\n",
    "from torch.nn import NLLLoss\n",
    "from torch.optim import Adam, SparseAdam\n",
    "import numpy as np\n",
    "import pickle\n",
    "from icecream import ic\n",
    "from tqdm.notebook import tqdm\n",
    "from sklearn.metrics import f1_score\n",
    "device = torch.device(\"cuda:0\" if torch.cuda.is_available() else \"cpu\")"
   ]
  },
  {
   "cell_type": "code",
   "execution_count": 2,
   "id": "415fa649-4c3c-47d5-94f9-ce5fb00d3311",
   "metadata": {},
   "outputs": [],
   "source": [
    "class AMORE (nn.Module):\n",
    "    def __init__(self):\n",
    "        super(AMORE, self).__init__()\n",
    "        self.epochs = 0\n",
    "        self.word_input_size = 300\n",
    "        self.speaker_input_size = 65\n",
    "        self.speaker_embedding_size = 134\n",
    "        self.lstm_hidden_size = 459        \n",
    "        \n",
    "        self.SpeakerEmbed = nn.Embedding(self.speaker_input_size+1, self.speaker_embedding_size, padding_idx = self.speaker_input_size)\n",
    "        self.Dropout1 = nn.Dropout(8e-3)\n",
    "        self.Activation = nn.Tanh()\n",
    "        self.LSTM = nn.LSTM(input_size = self.word_input_size + self.speaker_embedding_size, hidden_size = self.lstm_hidden_size, bidirectional=True)\n",
    "        self.Dropout2 = nn.Dropout(13e-4)\n",
    "        self.Classifier = nn.Linear(2*self.lstm_hidden_size, self.speaker_embedding_size)\n",
    "        self.Cos = nn.CosineSimilarity(dim = 2)\n",
    "        self.Softmax = nn.LogSoftmax(dim = 1)\n",
    "        \n",
    "    def forward(self, x):\n",
    "        x0 = [i[0] for i in x[0]]\n",
    "        words = torch.stack(x0)\n",
    "        words = words.to(device)\n",
    "        \n",
    "        speak_embed = torch.sum(self.SpeakerEmbed(torch.LongTensor(x[1]).to(device)),dim=1)\n",
    "        \n",
    "        embed = torch.cat((words,speak_embed),dim=1)\n",
    "        embed = self.Dropout1(embed)\n",
    "        embed = self.Activation(embed)\n",
    "        \n",
    "        h1, _= self.LSTM(embed)\n",
    "        h1 = self.Dropout2(h1)\n",
    "        \n",
    "        e1 = self.Classifier(h1)\n",
    "        \n",
    "        o1 = self.Cos(e1.unsqueeze(1),self.SpeakerEmbed.weight)\n",
    "        o2 = self.Softmax(o1)\n",
    "        \n",
    "        return o2\n",
    "        "
   ]
  },
  {
   "cell_type": "code",
   "execution_count": 3,
   "id": "d60f2baa-3b99-4843-8228-d04d575c0926",
   "metadata": {},
   "outputs": [],
   "source": [
    "with open(\"../output/train_padded.pkl\", \"rb\") as f:\n",
    "    train_loader = pickle.load(f)\n",
    "with open(\"../output/test_padded.pkl\", \"rb\") as f:\n",
    "    test_loader = pickle.load(f)\n",
    "with open(\"../output/val_padded.pkl\", \"rb\") as f:\n",
    "    val_loader = pickle.load(f)"
   ]
  },
  {
   "cell_type": "code",
   "execution_count": null,
   "id": "2d85fc6f-ff9a-4074-afed-c53886812157",
   "metadata": {
    "tags": []
   },
   "outputs": [],
   "source": [
    "# model initialization\n",
    "\n",
    "model = AMORE()\n",
    "model.to(device)\n",
    "loss_func = NLLLoss()\n",
    "optimizer = Adam(model.parameters(), 5e-4)"
   ]
  },
  {
   "cell_type": "code",
   "execution_count": 5,
   "id": "4883424c-b321-4328-b55f-05ee065cd438",
   "metadata": {},
   "outputs": [
    {
     "name": "stdout",
     "output_type": "stream",
     "text": [
      "Epoch: 1\n",
      "Train Loss: 3.2542030477523802\n"
     ]
    },
    {
     "name": "stderr",
     "output_type": "stream",
     "text": [
      "ic| 'Validation Loss:', val_loss: 3.1594827358539286\n",
      "ic| \"F1:\": 'F1:'\n",
      "    f1_score(targets, preds, average='macro'): 0.03127870264064294\n"
     ]
    },
    {
     "name": "stdout",
     "output_type": "stream",
     "text": [
      "Epoch: 2\n",
      "Train Loss: 3.0733260560035705\n"
     ]
    },
    {
     "name": "stderr",
     "output_type": "stream",
     "text": [
      "ic| 'Validation Loss:', val_loss: 2.9902295185969425\n",
      "ic| \"F1:\": 'F1:'\n",
      "    f1_score(targets, preds, average='macro'): 0.03127870264064294\n"
     ]
    },
    {
     "name": "stdout",
     "output_type": "stream",
     "text": [
      "Epoch: 3\n",
      "Train Loss: 2.922109792232513\n"
     ]
    },
    {
     "name": "stderr",
     "output_type": "stream",
     "text": [
      "ic| 'Validation Loss:', val_loss: 2.859445604911217\n",
      "ic| \"F1:\": 'F1:'\n",
      "    f1_score(targets, preds, average='macro'): 0.03127870264064294\n"
     ]
    },
    {
     "name": "stdout",
     "output_type": "stream",
     "text": [
      "Epoch: 4\n",
      "Train Loss: 2.809972134590149\n"
     ]
    },
    {
     "name": "stderr",
     "output_type": "stream",
     "text": [
      "ic| 'Validation Loss:', val_loss: 2.7648320051339956\n",
      "ic| \"F1:\": 'F1:'\n",
      "    f1_score(targets, preds, average='macro'): 0.03127870264064294\n"
     ]
    },
    {
     "name": "stdout",
     "output_type": "stream",
     "text": [
      "Epoch: 5\n",
      "Train Loss: 2.7291904039382935\n"
     ]
    },
    {
     "name": "stderr",
     "output_type": "stream",
     "text": [
      "ic| 'Validation Loss:', val_loss: 2.6959749918717604\n",
      "ic| \"F1:\": 'F1:'\n",
      "    f1_score(targets, preds, average='macro'): 0.03127870264064294\n"
     ]
    },
    {
     "name": "stdout",
     "output_type": "stream",
     "text": [
      "Epoch: 6\n",
      "Train Loss: 2.6706410508155822\n"
     ]
    },
    {
     "name": "stderr",
     "output_type": "stream",
     "text": [
      "ic| 'Validation Loss:', val_loss: 2.646334119943472\n",
      "ic| \"F1:\": 'F1:'\n",
      "    f1_score(targets, preds, average='macro'): 0.03127870264064294\n"
     ]
    },
    {
     "name": "stdout",
     "output_type": "stream",
     "text": [
      "Epoch: 7\n",
      "Train Loss: 2.6280005750656126\n"
     ]
    },
    {
     "name": "stderr",
     "output_type": "stream",
     "text": [
      "ic| 'Validation Loss:', val_loss: 2.609591843531682\n",
      "ic| \"F1:\": 'F1:'\n",
      "    f1_score(targets, preds, average='macro'): 0.03127870264064294\n"
     ]
    },
    {
     "name": "stdout",
     "output_type": "stream",
     "text": [
      "Epoch: 8\n",
      "Train Loss: 2.5971192350387575\n"
     ]
    },
    {
     "name": "stderr",
     "output_type": "stream",
     "text": [
      "ic| 'Validation Loss:', val_loss: 2.5835017351003793\n",
      "ic| \"F1:\": 'F1:'\n",
      "    f1_score(targets, preds, average='macro'): 0.03127870264064294\n"
     ]
    },
    {
     "name": "stdout",
     "output_type": "stream",
     "text": [
      "Epoch: 9\n",
      "Train Loss: 2.5750574011802674\n"
     ]
    },
    {
     "name": "stderr",
     "output_type": "stream",
     "text": [
      "ic| 'Validation Loss:', val_loss: 2.5645480669461764\n",
      "ic| \"F1:\": 'F1:'\n",
      "    f1_score(targets, preds, average='macro'): 0.03127870264064294\n"
     ]
    },
    {
     "name": "stdout",
     "output_type": "stream",
     "text": [
      "Epoch: 10\n",
      "Train Loss: 2.5595520963668825\n"
     ]
    },
    {
     "name": "stderr",
     "output_type": "stream",
     "text": [
      "ic| 'Validation Loss:', val_loss: 2.551580891242394\n",
      "ic| \"F1:\": 'F1:'\n",
      "    f1_score(targets, preds, average='macro'): 0.03127870264064294\n"
     ]
    },
    {
     "name": "stdout",
     "output_type": "stream",
     "text": [
      "Epoch: 11\n",
      "Train Loss: 2.548823245048523\n"
     ]
    },
    {
     "name": "stderr",
     "output_type": "stream",
     "text": [
      "ic| 'Validation Loss:', val_loss: 2.542601853150588\n",
      "ic| \"F1:\": 'F1:'\n",
      "    f1_score(targets, preds, average='macro'): 0.03127870264064294\n"
     ]
    },
    {
     "name": "stdout",
     "output_type": "stream",
     "text": [
      "Epoch: 12\n",
      "Train Loss: 2.541424119949341\n"
     ]
    },
    {
     "name": "stderr",
     "output_type": "stream",
     "text": [
      "ic| 'Validation Loss:', val_loss: 2.536253734735342\n",
      "ic| \"F1:\": 'F1:'\n",
      "    f1_score(targets, preds, average='macro'): 0.03127870264064294\n"
     ]
    },
    {
     "name": "stdout",
     "output_type": "stream",
     "text": [
      "Epoch: 13\n",
      "Train Loss: 2.536280272483826\n"
     ]
    },
    {
     "name": "stderr",
     "output_type": "stream",
     "text": [
      "ic| 'Validation Loss:', val_loss: 2.531888639009916\n",
      "ic| \"F1:\": 'F1:'\n",
      "    f1_score(targets, preds, average='macro'): 0.03127870264064294\n"
     ]
    },
    {
     "name": "stdout",
     "output_type": "stream",
     "text": [
      "Epoch: 14\n",
      "Train Loss: 2.5326140203475953\n"
     ]
    },
    {
     "name": "stderr",
     "output_type": "stream",
     "text": [
      "ic| 'Validation Loss:', val_loss: 2.528727212319007\n",
      "ic| \"F1:\": 'F1:'\n",
      "    f1_score(targets, preds, average='macro'): 0.03127870264064294\n"
     ]
    },
    {
     "name": "stdout",
     "output_type": "stream",
     "text": [
      "Epoch: 15\n",
      "Train Loss: 2.5299476952552795\n"
     ]
    },
    {
     "name": "stderr",
     "output_type": "stream",
     "text": [
      "ic| 'Validation Loss:', val_loss: 2.5262865616725043\n",
      "ic| \"F1:\": 'F1:'\n",
      "    f1_score(targets, preds, average='macro'): 0.03127870264064294\n"
     ]
    },
    {
     "name": "stdout",
     "output_type": "stream",
     "text": [
      "Epoch: 16\n",
      "Train Loss: 2.5279304490089416\n"
     ]
    },
    {
     "name": "stderr",
     "output_type": "stream",
     "text": [
      "ic| 'Validation Loss:', val_loss: 2.5243795835054836\n",
      "ic| \"F1:\": 'F1:'\n",
      "    f1_score(targets, preds, average='macro'): 0.03127870264064294\n"
     ]
    },
    {
     "name": "stdout",
     "output_type": "stream",
     "text": [
      "Epoch: 17\n",
      "Train Loss: 2.526382610797882\n"
     ]
    },
    {
     "name": "stderr",
     "output_type": "stream",
     "text": [
      "ic| 'Validation Loss:', val_loss: 2.5229985053722674\n",
      "ic| \"F1:\": 'F1:'\n",
      "    f1_score(targets, preds, average='macro'): 0.03127870264064294\n"
     ]
    },
    {
     "name": "stdout",
     "output_type": "stream",
     "text": [
      "Epoch: 18\n",
      "Train Loss: 2.5251593613624572\n"
     ]
    },
    {
     "name": "stderr",
     "output_type": "stream",
     "text": [
      "ic| 'Validation Loss:', val_loss: 2.5218765588907095\n",
      "ic| \"F1:\": 'F1:'\n",
      "    f1_score(targets, preds, average='macro'): 0.03127870264064294\n"
     ]
    },
    {
     "name": "stdout",
     "output_type": "stream",
     "text": [
      "Epoch: 19\n",
      "Train Loss: 2.524198657989502\n"
     ]
    },
    {
     "name": "stderr",
     "output_type": "stream",
     "text": [
      "ic| 'Validation Loss:', val_loss: 2.520919521038349\n",
      "ic| \"F1:\": 'F1:'\n",
      "    f1_score(targets, preds, average='macro'): 0.03127870264064294\n"
     ]
    },
    {
     "name": "stdout",
     "output_type": "stream",
     "text": [
      "Epoch: 20\n",
      "Train Loss: 2.5234276695251463\n"
     ]
    },
    {
     "name": "stderr",
     "output_type": "stream",
     "text": [
      "ic| 'Validation Loss:', val_loss: 2.5201419903681828\n",
      "ic| \"F1:\": 'F1:'\n",
      "    f1_score(targets, preds, average='macro'): 0.03127870264064294\n"
     ]
    },
    {
     "name": "stdout",
     "output_type": "stream",
     "text": [
      "Epoch: 21\n",
      "Train Loss: 2.522791932106018\n"
     ]
    },
    {
     "name": "stderr",
     "output_type": "stream",
     "text": [
      "ic| 'Validation Loss:', val_loss: 2.519575251065768\n",
      "ic| \"F1:\": 'F1:'\n",
      "    f1_score(targets, preds, average='macro'): 0.03127870264064294\n"
     ]
    },
    {
     "name": "stdout",
     "output_type": "stream",
     "text": [
      "Epoch: 22\n",
      "Train Loss: 2.5222825450897215\n"
     ]
    },
    {
     "name": "stderr",
     "output_type": "stream",
     "text": [
      "ic| 'Validation Loss:', val_loss: 2.5190311945401707\n",
      "ic| \"F1:\": 'F1:'\n",
      "    f1_score(targets, preds, average='macro'): 0.03127870264064294\n"
     ]
    },
    {
     "name": "stdout",
     "output_type": "stream",
     "text": [
      "Epoch: 23\n",
      "Train Loss: 2.5218578934669496\n"
     ]
    },
    {
     "name": "stderr",
     "output_type": "stream",
     "text": [
      "ic| 'Validation Loss:', val_loss: 2.518661194581252\n",
      "ic| \"F1:\": 'F1:'\n",
      "    f1_score(targets, preds, average='macro'): 0.03127870264064294\n"
     ]
    },
    {
     "name": "stdout",
     "output_type": "stream",
     "text": [
      "Epoch: 24\n",
      "Train Loss: 2.5215383524894714\n"
     ]
    },
    {
     "name": "stderr",
     "output_type": "stream",
     "text": [
      "ic| 'Validation Loss:', val_loss: 2.51827335357666\n",
      "ic| \"F1:\": 'F1:'\n",
      "    f1_score(targets, preds, average='macro'): 0.03127870264064294\n"
     ]
    },
    {
     "name": "stdout",
     "output_type": "stream",
     "text": [
      "Epoch: 25\n",
      "Train Loss: 2.521267563343048\n"
     ]
    },
    {
     "name": "stderr",
     "output_type": "stream",
     "text": [
      "ic| 'Validation Loss:', val_loss: 2.5180268691136285\n",
      "ic| \"F1:\": 'F1:'\n",
      "    f1_score(targets, preds, average='macro'): 0.03127870264064294\n"
     ]
    },
    {
     "name": "stdout",
     "output_type": "stream",
     "text": [
      "Epoch: 26\n",
      "Train Loss: 2.521063365459442\n"
     ]
    },
    {
     "name": "stderr",
     "output_type": "stream",
     "text": [
      "ic| 'Validation Loss:', val_loss: 2.5177575771625227\n",
      "ic| \"F1:\": 'F1:'\n",
      "    f1_score(targets, preds, average='macro'): 0.03127870264064294\n"
     ]
    },
    {
     "name": "stdout",
     "output_type": "stream",
     "text": [
      "Epoch: 27\n",
      "Train Loss: 2.520907577037811\n"
     ]
    },
    {
     "name": "stderr",
     "output_type": "stream",
     "text": [
      "ic| 'Validation Loss:', val_loss: 2.51750886623676\n",
      "ic| \"F1:\": 'F1:'\n",
      "    f1_score(targets, preds, average='macro'): 0.03127870264064294\n"
     ]
    },
    {
     "name": "stdout",
     "output_type": "stream",
     "text": [
      "Epoch: 28\n"
     ]
    },
    {
     "ename": "KeyboardInterrupt",
     "evalue": "",
     "output_type": "error",
     "traceback": [
      "\u001b[0;31m---------------------------------------------------------------------------\u001b[0m",
      "\u001b[0;31mKeyboardInterrupt\u001b[0m                         Traceback (most recent call last)",
      "Cell \u001b[0;32mIn[5], line 19\u001b[0m\n\u001b[1;32m     16\u001b[0m y \u001b[38;5;241m=\u001b[39m model(X)\n\u001b[1;32m     18\u001b[0m loss \u001b[38;5;241m=\u001b[39m loss_func(y, torch\u001b[38;5;241m.\u001b[39mLongTensor(Y)\u001b[38;5;241m.\u001b[39mto(device))\n\u001b[0;32m---> 19\u001b[0m \u001b[43mloss\u001b[49m\u001b[38;5;241;43m.\u001b[39;49m\u001b[43mbackward\u001b[49m\u001b[43m(\u001b[49m\u001b[43m)\u001b[49m\n\u001b[1;32m     20\u001b[0m optimizer\u001b[38;5;241m.\u001b[39mstep()\n\u001b[1;32m     21\u001b[0m train_loss \u001b[38;5;241m+\u001b[39m\u001b[38;5;241m=\u001b[39m loss\u001b[38;5;241m.\u001b[39mitem()\n",
      "File \u001b[0;32m~/miniconda3/envs/inlp/lib/python3.10/site-packages/torch/_tensor.py:488\u001b[0m, in \u001b[0;36mTensor.backward\u001b[0;34m(self, gradient, retain_graph, create_graph, inputs)\u001b[0m\n\u001b[1;32m    478\u001b[0m \u001b[38;5;28;01mif\u001b[39;00m has_torch_function_unary(\u001b[38;5;28mself\u001b[39m):\n\u001b[1;32m    479\u001b[0m     \u001b[38;5;28;01mreturn\u001b[39;00m handle_torch_function(\n\u001b[1;32m    480\u001b[0m         Tensor\u001b[38;5;241m.\u001b[39mbackward,\n\u001b[1;32m    481\u001b[0m         (\u001b[38;5;28mself\u001b[39m,),\n\u001b[0;32m   (...)\u001b[0m\n\u001b[1;32m    486\u001b[0m         inputs\u001b[38;5;241m=\u001b[39minputs,\n\u001b[1;32m    487\u001b[0m     )\n\u001b[0;32m--> 488\u001b[0m \u001b[43mtorch\u001b[49m\u001b[38;5;241;43m.\u001b[39;49m\u001b[43mautograd\u001b[49m\u001b[38;5;241;43m.\u001b[39;49m\u001b[43mbackward\u001b[49m\u001b[43m(\u001b[49m\n\u001b[1;32m    489\u001b[0m \u001b[43m    \u001b[49m\u001b[38;5;28;43mself\u001b[39;49m\u001b[43m,\u001b[49m\u001b[43m \u001b[49m\u001b[43mgradient\u001b[49m\u001b[43m,\u001b[49m\u001b[43m \u001b[49m\u001b[43mretain_graph\u001b[49m\u001b[43m,\u001b[49m\u001b[43m \u001b[49m\u001b[43mcreate_graph\u001b[49m\u001b[43m,\u001b[49m\u001b[43m \u001b[49m\u001b[43minputs\u001b[49m\u001b[38;5;241;43m=\u001b[39;49m\u001b[43minputs\u001b[49m\n\u001b[1;32m    490\u001b[0m \u001b[43m\u001b[49m\u001b[43m)\u001b[49m\n",
      "File \u001b[0;32m~/miniconda3/envs/inlp/lib/python3.10/site-packages/torch/autograd/__init__.py:197\u001b[0m, in \u001b[0;36mbackward\u001b[0;34m(tensors, grad_tensors, retain_graph, create_graph, grad_variables, inputs)\u001b[0m\n\u001b[1;32m    192\u001b[0m     retain_graph \u001b[38;5;241m=\u001b[39m create_graph\n\u001b[1;32m    194\u001b[0m \u001b[38;5;66;03m# The reason we repeat same the comment below is that\u001b[39;00m\n\u001b[1;32m    195\u001b[0m \u001b[38;5;66;03m# some Python versions print out the first line of a multi-line function\u001b[39;00m\n\u001b[1;32m    196\u001b[0m \u001b[38;5;66;03m# calls in the traceback and some print out the last line\u001b[39;00m\n\u001b[0;32m--> 197\u001b[0m \u001b[43mVariable\u001b[49m\u001b[38;5;241;43m.\u001b[39;49m\u001b[43m_execution_engine\u001b[49m\u001b[38;5;241;43m.\u001b[39;49m\u001b[43mrun_backward\u001b[49m\u001b[43m(\u001b[49m\u001b[43m  \u001b[49m\u001b[38;5;66;43;03m# Calls into the C++ engine to run the backward pass\u001b[39;49;00m\n\u001b[1;32m    198\u001b[0m \u001b[43m    \u001b[49m\u001b[43mtensors\u001b[49m\u001b[43m,\u001b[49m\u001b[43m \u001b[49m\u001b[43mgrad_tensors_\u001b[49m\u001b[43m,\u001b[49m\u001b[43m \u001b[49m\u001b[43mretain_graph\u001b[49m\u001b[43m,\u001b[49m\u001b[43m \u001b[49m\u001b[43mcreate_graph\u001b[49m\u001b[43m,\u001b[49m\u001b[43m \u001b[49m\u001b[43minputs\u001b[49m\u001b[43m,\u001b[49m\n\u001b[1;32m    199\u001b[0m \u001b[43m    \u001b[49m\u001b[43mallow_unreachable\u001b[49m\u001b[38;5;241;43m=\u001b[39;49m\u001b[38;5;28;43;01mTrue\u001b[39;49;00m\u001b[43m,\u001b[49m\u001b[43m \u001b[49m\u001b[43maccumulate_grad\u001b[49m\u001b[38;5;241;43m=\u001b[39;49m\u001b[38;5;28;43;01mTrue\u001b[39;49;00m\u001b[43m)\u001b[49m\n",
      "\u001b[0;31mKeyboardInterrupt\u001b[0m: "
     ]
    }
   ],
   "source": [
    "# training loop\n",
    "\n",
    "num_epochs = 50\n",
    "for epoch in range(num_epochs):\n",
    "    model.train()\n",
    "    model.epochs += 1\n",
    "    train_loss = 0\n",
    "    count = 0\n",
    "    print(\"Epoch:\", model.epochs)\n",
    "    for sent in train_loader:\n",
    "        model.zero_grad()\n",
    "\n",
    "        X, Y = sent\n",
    "        \n",
    "        y = model(X)\n",
    "\n",
    "        loss = loss_func(y, torch.LongTensor(Y).to(device))\n",
    "        loss.backward()\n",
    "        optimizer.step()\n",
    "        train_loss += loss.item()\n",
    "        \n",
    "    train_loss /= len(train_loader)\n",
    "    print(\"Train Loss:\", train_loss)\n",
    "    \n",
    "    \n",
    "    # validation\n",
    "    \n",
    "    model.eval()\n",
    "    val_loss = 0\n",
    "    targets = []\n",
    "    preds = []\n",
    "    for sent in val_loader:\n",
    "        X, Y = sent\n",
    "        targets+=[i.tolist() for i in Y]\n",
    "        y = model(X)\n",
    "        preds += torch.argmax(y, dim=1).to('cpu')\n",
    "        loss = loss_func(y, torch.LongTensor(Y).to(device))\n",
    "        val_loss += loss.item()\n",
    "    val_loss /= len(val_loader)\n",
    "    print(\"Validation Loss:\", val_loss)\n",
    "    # print(targets)\n",
    "    # print(preds)\n",
    "    print(\"F1:\", f1_score(targets, preds, average='macro'))\n",
    "    print()"
   ]
  },
  {
   "cell_type": "code",
   "execution_count": null,
   "id": "2ee2eff0-3003-400a-ab64-79fae0cb9e02",
   "metadata": {
    "tags": []
   },
   "outputs": [],
   "source": [
    "targets[0]"
   ]
  },
  {
   "cell_type": "code",
   "execution_count": null,
   "id": "f509a94c-9f83-4dd5-a447-ec702bbc0717",
   "metadata": {
    "tags": []
   },
   "outputs": [],
   "source": [
    "# testing loop\n",
    "model.eval()\n",
    "test_loss = 0\n",
    "targets = []\n",
    "preds = []\n",
    "for sent in test_loader:\n",
    "    X, Y = sent\n",
    "    targets += [i.tolist() for i in Y]\n",
    "    y = model(X)\n",
    "    \n",
    "    preds += torch.argmax(y, dim=1).to('cpu')\n",
    "    \n",
    "    loss = loss_func(y, torch.LongTensor(Y).to(device))\n",
    "    test_loss += loss.item()\n",
    "test_loss /= len(test_loader)\n",
    "ic(\"Test Loss:\", test_loss)\n",
    "ic(\"F1:\", f1_score(targets, preds, average='macro'))"
   ]
  },
  {
   "cell_type": "code",
   "execution_count": null,
   "id": "6134ced6-da13-4261-ade4-988f5ab08bcb",
   "metadata": {},
   "outputs": [],
   "source": [
    "\n",
    "\n"
   ]
  }
 ],
 "metadata": {
  "kernelspec": {
   "display_name": "Python 3 (ipykernel)",
   "language": "python",
   "name": "python3"
  },
  "language_info": {
   "codemirror_mode": {
    "name": "ipython",
    "version": 3
   },
   "file_extension": ".py",
   "mimetype": "text/x-python",
   "name": "python",
   "nbconvert_exporter": "python",
   "pygments_lexer": "ipython3",
   "version": "3.10.9"
  }
 },
 "nbformat": 4,
 "nbformat_minor": 5
}
