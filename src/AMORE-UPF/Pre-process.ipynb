{
 "cells": [
  {
   "cell_type": "code",
   "execution_count": null,
   "id": "535813aa-cc62-4377-9aaf-b2c7e08346a3",
   "metadata": {
    "tags": []
   },
   "outputs": [],
   "source": [
    "from gensim.models import Word2Vec"
   ]
  },
  {
   "cell_type": "markdown",
   "id": "16842e59-019c-433d-88ab-ad065cd72e6c",
   "metadata": {},
   "source": [
    "# Data preprocessing\n",
    "\n",
    "Here, the aim is to make the 3 DataLoaders: Train, Val, Test."
   ]
  },
  {
   "cell_type": "code",
   "execution_count": null,
   "id": "2962f4af-fa79-4635-a707-44ef3de08510",
   "metadata": {},
   "outputs": [],
   "source": [
    "train_path = \"../data/friends.train.scene_delim.conll\"\n",
    "test_path = \"../data/friends.test.scene_delim.conll\""
   ]
  },
  {
   "cell_type": "code",
   "execution_count": null,
   "id": "b2c309ed-1e68-4b61-ae9b-28d3d38ad97e",
   "metadata": {
    "tags": []
   },
   "outputs": [],
   "source": [
    "def read_conllu(in_p):\n",
    "    with open(in_p, \"r\") as f:\n",
    "        data = f.read()\n",
    "    data = data.split(\"\\n\")\n",
    "    # iterate through all lines and get fields\n",
    "    sentences = []\n",
    "    tokens = []\n",
    "    for line in data:\n",
    "        if line.startswith(\"#\"):  # skip comments\n",
    "            continue\n",
    "        if line.strip() == \"\":  # end of sentence\n",
    "            sentences.append(tokens)\n",
    "            tokens = []\n",
    "            continue\n",
    "        line = line.replace(\"/  +/g\", ' ')\n",
    "        fields = line.split()\n",
    "        token = {\n",
    "            # \"doc id\": fields[0],\n",
    "            # \"scene id\": fields[1],\n",
    "            # \"token id\": fields[2],\n",
    "            \"form\": fields[3].lower(),\n",
    "            \"speaker\": fields[9],\n",
    "            \"referenced\": fields[11]\n",
    "        }\n",
    "        tokens.append(token)\n",
    "    return sentences"
   ]
  },
  {
   "cell_type": "code",
   "execution_count": null,
   "id": "aa8d8254-e0c8-4ee8-8f40-533c517a3e2e",
   "metadata": {
    "tags": []
   },
   "outputs": [],
   "source": [
    "def combine_scenes(list_scene):\n",
    "    # combine every 24 scenes into single long scene\n",
    "    l = len(list_scene)\n",
    "    fin = []\n",
    "    for i in range(0, l, 24):\n",
    "        temp = []\n",
    "        if i+24<=l:\n",
    "            part = list_scene[i:i+24]\n",
    "        else:\n",
    "            part = list_scene[i:]\n",
    "        for j in part:\n",
    "            temp += j\n",
    "        fin.append(temp)\n",
    "    return fin"
   ]
  },
  {
   "cell_type": "code",
   "execution_count": null,
   "id": "3978bb55-5823-4844-b527-88d037377f94",
   "metadata": {
    "tags": []
   },
   "outputs": [],
   "source": [
    "def fix_cont_ref(list_scene):\n",
    "    # FIX CONTINUOUS REFERENCES\n",
    "    ## if consecutive words reference the same entity then \n",
    "    ## the last words references it.\n",
    "    for scene in list_scene:\n",
    "        for token in scene:\n",
    "            ref = token[\"referenced\"]\n",
    "            if \"(\" in ref:\n",
    "                if \")\" not in ref:\n",
    "                    token[\"referenced\"] = \"-\"\n",
    "            ref = token[\"referenced\"]\n",
    "            # convert reference num to int\n",
    "            if ref!=\"-\":\n",
    "                num = \"\"\n",
    "                for char in ref:\n",
    "                    if char.isalnum():\n",
    "                        num += char\n",
    "                num = int(num)\n",
    "            else:\n",
    "                num = -1\n",
    "            token[\"referenced\"] = num\n",
    "    return list_scene"
   ]
  },
  {
   "cell_type": "code",
   "execution_count": null,
   "id": "10c36af4-96bc-46ad-b08d-c088f6161e89",
   "metadata": {
    "tags": []
   },
   "outputs": [],
   "source": [
    "train = fix_cont_ref(combine_scenes(read_conllu(train_path)))\n",
    "test = fix_cont_ref(combine_scenes(read_conllu(test_path)))"
   ]
  },
  {
   "cell_type": "markdown",
   "id": "ca008940-868a-419b-b9f3-3769b64bb39c",
   "metadata": {},
   "source": [
    "## convert all \"forms\" to \"vec\" using Google's News 300 word2vec"
   ]
  },
  {
   "cell_type": "code",
   "execution_count": null,
   "id": "c64ca976-d3aa-429b-9dcb-df7e372fd99e",
   "metadata": {
    "tags": []
   },
   "outputs": [],
   "source": [
    "forms2vec = {}\n",
    "for scene in train:\n",
    "    for token in scene:\n",
    "        forms2vec[token[\"form\"]] = 1\n",
    "for scene in test:\n",
    "    for token in scene:\n",
    "        forms2vec[token[\"form\"]] = 1"
   ]
  },
  {
   "cell_type": "code",
   "execution_count": null,
   "id": "c184e3d2-a39a-4d36-9f3d-06d35e95e0b5",
   "metadata": {
    "tags": []
   },
   "outputs": [],
   "source": [
    "len(all_forms)"
   ]
  },
  {
   "cell_type": "code",
   "execution_count": null,
   "id": "8e32b842-6839-4fc3-8efc-54ebf08ce009",
   "metadata": {
    "tags": []
   },
   "outputs": [],
   "source": [
    "# In the train set, every one who is referenced less than 3 times goes to \"<OTH>\"\n",
    "count = {}\n",
    "for scene in train:\n",
    "    for token in scene:\n",
    "        word = "
   ]
  },
  {
   "cell_type": "code",
   "execution_count": null,
   "id": "31255878-2083-4d4e-a4eb-cd28cecd0380",
   "metadata": {
    "tags": []
   },
   "outputs": [],
   "source": [
    "mapping = {\n",
    "           \"idx2char\":{},\n",
    "           \"char2idx\":{}\n",
    "          }\n",
    "with open(\"../data/friends_entity_map.txt\", \"r\") as f:\n",
    "    idx_char = f.read()\n",
    "idx_char = idx_char.split(\"\\n\")[:-1]\n",
    "for i in idx_char:\n",
    "    i_c = i.split(\"\\t\")\n",
    "    z = \"_\".join(i_c[1].split(\" \"))\n",
    "    mapping[\"idx2char\"][i_c[0]] = z\n",
    "    mapping[\"char2idx\"][z] = i_c[0]"
   ]
  },
  {
   "cell_type": "code",
   "execution_count": null,
   "id": "c9a140f3-12d8-4f9c-861d-b7b0f268fddc",
   "metadata": {},
   "outputs": [],
   "source": [
    "mapping"
   ]
  },
  {
   "cell_type": "code",
   "execution_count": null,
   "id": "18855503-8470-480f-b14a-31db010e9cb4",
   "metadata": {},
   "outputs": [],
   "source": []
  }
 ],
 "metadata": {
  "kernelspec": {
   "display_name": "Python 3 (ipykernel)",
   "language": "python",
   "name": "python3"
  },
  "language_info": {
   "codemirror_mode": {
    "name": "ipython",
    "version": 3
   },
   "file_extension": ".py",
   "mimetype": "text/x-python",
   "name": "python",
   "nbconvert_exporter": "python",
   "pygments_lexer": "ipython3",
   "version": "3.9.16"
  }
 },
 "nbformat": 4,
 "nbformat_minor": 5
}
